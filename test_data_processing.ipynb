{
 "cells": [
  {
   "cell_type": "code",
   "execution_count": 12,
   "metadata": {
    "collapsed": false
   },
   "outputs": [],
   "source": [
    "import json\n",
    "import yaml\n",
    "import pandas as pd\n",
    "import numpy as np\n",
    "import matplotlib.pyplot as plt\n",
    "%matplotlib inline\n",
    "from imp import reload\n",
    "from copy import deepcopy\n",
    "import data_processing as dp"
   ]
  },
  {
   "cell_type": "code",
   "execution_count": 13,
   "metadata": {
    "collapsed": false
   },
   "outputs": [],
   "source": [
    "res = {}\n",
    "sample = json.load(open(\"/home/brian/projects/fete/record.json\"))"
   ]
  },
  {
   "cell_type": "code",
   "execution_count": 30,
   "metadata": {
    "collapsed": false,
    "scrolled": true
   },
   "outputs": [
    {
     "name": "stdout",
     "output_type": "stream",
     "text": [
      "[2.1332207, -2.1332181, -2.1332194, 2.1332165, -2.1332189, 2.1332183, 2.1332187, -2.1332179, 4e-07, 5e-07, -4e-07, -5e-07, 1e-07, -3e-07, 4e-07, -1e-07] [ 1 -1 -1  1 -1  1  1 -1  0  0  0  0  0  0  0  0] [ 1 -1 -1  1 -1  1  1 -1  0  0  0  0  0  0  0  0]\n"
     ]
    }
   ],
   "source": [
    "reload(dp)\n",
    "res = dp.process_record(sample)"
   ]
  },
  {
   "cell_type": "code",
   "execution_count": 15,
   "metadata": {
    "collapsed": false
   },
   "outputs": [
    {
     "data": {
      "text/plain": [
       "<Container object of 3 artists>"
      ]
     },
     "execution_count": 15,
     "metadata": {},
     "output_type": "execute_result"
    },
    {
     "data": {
      "image/png": "[encoded data removed]",
      "text/plain": [
       "<matplotlib.figure.Figure at 0x7f25093e0588>"
      ]
     },
     "metadata": {},
     "output_type": "display_data"
    }
   ],
   "source": [
    "check = res['dmc']['ordm']\n",
    "plt.errorbar(\n",
    "    range(112),\n",
    "    np.array(check['up']).diagonal(),\n",
    "    np.array(check['up_err']).diagonal()\n",
    ")"
   ]
  },
  {
   "cell_type": "code",
   "execution_count": 26,
   "metadata": {
    "collapsed": false
   },
   "outputs": [
    {
     "data": {
      "text/plain": [
       "{'basis': [0.18, 2, 4],\n",
       " 'broyden': [0.0001, 40, 2],\n",
       " 'edifftol': 10,\n",
       " 'fmixing': 90,\n",
       " 'functional': {'correlation': 'PBE', 'exchange': 'PBE', 'hybrid': 20},\n",
       " 'initial_charges': {'Fe': 2, 'Te': -2},\n",
       " 'initial_spin': [1, -1, -1, 1, -1, 1, 1, -1, 0, 0, 0, 0, 0, 0, 0, 0],\n",
       " 'kmesh': [8, 8, 8],\n",
       " 'mag_moments': [2.1332207,\n",
       "  -2.1332181,\n",
       "  -2.1332194,\n",
       "  2.1332165,\n",
       "  -2.1332189,\n",
       "  2.1332183,\n",
       "  2.1332187,\n",
       "  -2.1332179,\n",
       "  4e-07,\n",
       "  5e-07,\n",
       "  -4e-07,\n",
       "  -5e-07,\n",
       "  1e-07,\n",
       "  -3e-07,\n",
       "  4e-07,\n",
       "  -1e-07],\n",
       " 'maxcycle': 200,\n",
       " 'restart_from': None,\n",
       " 'resume_mode': 'conservative',\n",
       " 'smear': None,\n",
       " 'spin_polarized': True,\n",
       " 'spins_consistent': False,\n",
       " 'symmetrized': False,\n",
       " 'tolinteg': [8, 8, 8, 8, 16],\n",
       " 'total_energy': -1055.7571000845}"
      ]
     },
     "execution_count": 26,
     "metadata": {},
     "output_type": "execute_result"
    }
   ],
   "source": [
    "res['dft']"
   ]
  }
 ],
 "metadata": {
  "kernelspec": {
   "display_name": "Python 3",
   "language": "python",
   "name": "python3"
  },
  "language_info": {
   "codemirror_mode": {
    "name": "ipython",
    "version": 3
   },
   "file_extension": ".py",
   "mimetype": "text/x-python",
   "name": "python",
   "nbconvert_exporter": "python",
   "pygments_lexer": "ipython3",
   "version": "3.4.3"
  }
 },
 "nbformat": 4,
 "nbformat_minor": 0
}
