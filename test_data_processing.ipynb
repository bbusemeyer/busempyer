{
 "cells": [
  {
   "cell_type": "code",
   "execution_count": 32,
   "metadata": {
    "collapsed": true
   },
   "outputs": [],
   "source": [
    "import json\n",
    "import yaml\n",
    "import pandas as pd\n",
    "import numpy as np\n",
    "import matplotlib.pyplot as plt\n",
    "%matplotlib inline\n",
    "from imp import reload\n",
    "from copy import deepcopy\n",
    "import data_processing as dp"
   ]
  },
  {
   "cell_type": "code",
   "execution_count": 3,
   "metadata": {
    "collapsed": false
   },
   "outputs": [],
   "source": [
    "res = {}\n",
    "sample = json.load(open(\"/home/brian/projects/fete/record.json\"))"
   ]
  },
  {
   "cell_type": "code",
   "execution_count": 48,
   "metadata": {
    "collapsed": false,
    "scrolled": true
   },
   "outputs": [],
   "source": [
    "reload(dp)\n",
    "res = dp.process_record(sample)"
   ]
  },
  {
   "cell_type": "code",
   "execution_count": 50,
   "metadata": {
    "collapsed": false
   },
   "outputs": [
    {
     "data": {
      "text/plain": [
       "<Container object of 3 artists>"
      ]
     },
     "execution_count": 50,
     "metadata": {},
     "output_type": "execute_result"
    },
    {
     "data": {
      "image/png": "[encoded data removed]",
      "text/plain": [
       "<matplotlib.figure.Figure at 0x7f297e9ba7b8>"
      ]
     },
     "metadata": {},
     "output_type": "display_data"
    }
   ],
   "source": [
    "check = res['dmc']['ordm']\n",
    "plt.errorbar(\n",
    "    range(112),\n",
    "    np.array(check['up']).diagonal(),\n",
    "    np.array(check['up_err']).diagonal()\n",
    ")"
   ]
  },
  {
   "cell_type": "code",
   "execution_count": 51,
   "metadata": {
    "collapsed": false
   },
   "outputs": [
    {
     "data": {
      "text/plain": [
       "{'basis': [0.18, 2, 4],\n",
       " 'broyden': [0.0001, 40, 2],\n",
       " 'edifftol': 10,\n",
       " 'fmixing': 90,\n",
       " 'functional': {'correlation': 'PBE', 'exchange': 'PBE', 'hybrid': 20},\n",
       " 'initial_charges': {'Fe': 2, 'Te': -2},\n",
       " 'initial_spin': [1, -1, -1, 1, -1, 1, 1, -1, 0, 0, 0, 0, 0, 0, 0, 0],\n",
       " 'kmesh': [8, 8, 8],\n",
       " 'mag_moments': [2.1332207,\n",
       "  -2.1332181,\n",
       "  -2.1332194,\n",
       "  2.1332165,\n",
       "  -2.1332189,\n",
       "  2.1332183,\n",
       "  2.1332187,\n",
       "  -2.1332179,\n",
       "  4e-07,\n",
       "  5e-07,\n",
       "  -4e-07,\n",
       "  -5e-07,\n",
       "  1e-07,\n",
       "  -3e-07,\n",
       "  4e-07,\n",
       "  -1e-07],\n",
       " 'maxcycle': 200,\n",
       " 'restart_from': None,\n",
       " 'resume_mode': 'conservative',\n",
       " 'smear': None,\n",
       " 'spin_polarized': True,\n",
       " 'symmetrized': False,\n",
       " 'tolinteg': [8, 8, 8, 8, 16],\n",
       " 'total_energy': -1055.7571000845}"
      ]
     },
     "execution_count": 51,
     "metadata": {},
     "output_type": "execute_result"
    }
   ],
   "source": [
    "res['dft']"
   ]
  },
  {
   "cell_type": "code",
   "execution_count": 52,
   "metadata": {
    "collapsed": false
   },
   "outputs": [
    {
     "data": {
      "text/plain": [
       "'{\"supercell\": [[2, 0, 0], [0, 2, 0], [0, 0, 1]], \"dft\": {\"fmixing\": 90, \"symmetrized\": false, \"edifftol\": 10, \"functional\": {\"hybrid\": 20, \"exchange\": \"PBE\", \"correlation\": \"PBE\"}, \"basis\": [0.18, 2, 4], \"broyden\": [0.0001, 40, 2], \"tolinteg\": [8, 8, 8, 8, 16], \"mag_moments\": [2.1332207, -2.1332181, -2.1332194, 2.1332165, -2.1332189, 2.1332183, 2.1332187, -2.1332179, 4e-07, 5e-07, -4e-07, -5e-07, 1e-07, -3e-07, 4e-07, -1e-07], \"initial_spin\": [1, -1, -1, 1, -1, 1, 1, -1, 0, 0, 0, 0, 0, 0, 0, 0], \"smear\": null, \"maxcycle\": 200, \"resume_mode\": \"conservative\", \"initial_charges\": {\"Fe\": 2, \"Te\": -2}, \"total_energy\": -1055.7571000845, \"spin_polarized\": true, \"kmesh\": [8, 8, 8], \"restart_from\": null}, \"total_spin\": 0, \"charge\": 0, \"cif\": \"\\\\n#(C) 2015 by Fachinformationszentrum Karlsruhe.  All rights reserved.\\\\ndata_168764-ICSD\\\\n_database_code_ICSD 168764\\\\n_audit_creation_date 2011-02-01\\\\n_chemical_name_systematic \\'Iron telluride (1.05/1)\\'\\\\n_chemical_formula_structural \\'Fe1.05 Te\\'\\\\n_chemical_formula_sum \\'Fe1.05 Te1\\'\\\\n_chemical_name_structure_type Fe1+x(Se,Te)\\\\n_exptl_crystal_density_diffrn 6.74\\\\n_cell_measurement_temperature 300.\\\\n_publ_section_title\\\\n\\\\n;\\\\nFrom antiferromagnetism to superconductivity in Fe1+y Te1-x Sex (0 <= x <=\\\\n0.20): neutron powder diffraction analysis\\\\n;\\\\nloop_\\\\n_citation_id\\\\n_citation_journal_full\\\\n_citation_year\\\\n_citation_journal_volume\\\\n_citation_page_first\\\\n_citation_page_last\\\\n_citation_journal_id_ASTM\\\\nprimary \\'Physical Review, Serie 3. B - Condensed Matter (18,1978-)\\' 2010 81\\\\n094115-1 094115-10 PRBMDO\\\\nloop_\\\\n_publ_author_name\\\\n\\'Martinelli, A.\\'\\\\n\\'Palenzona, A.\\'\\\\n\\'Tropeano, M.\\'\\\\n\\'Ferdeghini, C.\\'\\\\n\\'Putti, M.\\'\\\\n\\'Cimberle, M.R.\\'\\\\n\\'Nguyen, T.D.\\'\\\\n\\'Affronte, M.\\'\\\\n\\'Ritter, C.\\'\\\\n_cell_length_a 3.8219(1)\\\\n_cell_length_b 3.8219(1)\\\\n_cell_length_c 6.2851(1)\\\\n_cell_angle_alpha 90.\\\\n_cell_angle_beta 90.\\\\n_cell_angle_gamma 90.\\\\n_cell_volume 91.81\\\\n_cell_formula_units_Z 2\\\\n_symmetry_space_group_name_H-M \\'P 4/n m m Z\\'\\\\n_symmetry_Int_Tables_number 129\\\\n_refine_ls_R_factor_all 0.0352\\\\nloop_\\\\n_symmetry_equiv_pos_site_id\\\\n_symmetry_equiv_pos_as_xyz\\\\n1 \\'y+1/2, x+1/2, -z\\'\\\\n2 \\'-y, x+1/2, -z\\'\\\\n3 \\'y+1/2, -x, -z\\'\\\\n4 \\'-y, -x, -z\\'\\\\n5 \\'x+1/2, y+1/2, -z\\'\\\\n6 \\'-x, y+1/2, -z\\'\\\\n7 \\'x+1/2, -y, -z\\'\\\\n8 \\'-x, -y, -z\\'\\\\n9 \\'-y+1/2, -x+1/2, z\\'\\\\n10 \\'y, -x+1/2, z\\'\\\\n11 \\'-y+1/2, x, z\\'\\\\n12 \\'y, x, z\\'\\\\n13 \\'-x+1/2, -y+1/2, z\\'\\\\n14 \\'x, -y+1/2, z\\'\\\\n15 \\'-x+1/2, y, z\\'\\\\n16 \\'x, y, z\\'\\\\nloop_\\\\n_atom_type_symbol\\\\n_atom_type_oxidation_number\\\\nFe1+ 1.9\\\\nTe2- -2\\\\nloop_\\\\n_atom_site_label\\\\n_atom_site_type_symbol\\\\n_atom_site_symmetry_multiplicity\\\\n_atom_site_Wyckoff_symbol\\\\n_atom_site_fract_x\\\\n_atom_site_fract_y\\\\n_atom_site_fract_z\\\\n_atom_site_B_iso_or_equiv\\\\n_atom_site_occupancy\\\\n_atom_site_attached_hydrogens\\\\nFe1 Fe1+ 2 a 0.75 0.25 0 . 1. 0\\\\nTe1 Te2- 2 c 0.25 0.25 0.183961904762 . 1. 0\\\\n#End of TTdata_168764-ICSD\\\\n\", \"dmc\": {\"fluct\": {\"element\": {\"2\": \"Fe\", \"0\": \"Fe\", \"3\": \"Se\", \"1\": \"Se\"}, \"variance\": {\"2\": 1.5283043997, \"0\": 1.1327288677, \"3\": 0.9534114834, \"1\": 0.9551173013}, \"magmom\": {\"2\": 2.2891627751, \"0\": 2.2891627751, \"3\": 0.0046657793, \"1\": 0.0046657793}, \"spinchan\": {\"2\": \"minority\", \"0\": \"majority\", \"3\": \"minority\", \"1\": \"majority\"}}, \"energy\": {\"value\": -1055.51111, \"error\": 0.005447032213555712}, \"timestep\": [0.01], \"nblock\": 16, \"jastrow\": [\"twobody\"], \"optimizer\": [\"variance\"], \"excitations\": \"no\", \"localization\": [\"tmoves\"]}, \"control\": {\"id\": \"fete_zse_384\", \"pretty_formula\": \"\", \"elements\": [], \"queue_id\": []}}'"
      ]
     },
     "execution_count": 52,
     "metadata": {},
     "output_type": "execute_result"
    }
   ],
   "source": [
    "json.dumps(res)"
   ]
  }
 ],
 "metadata": {
  "kernelspec": {
   "display_name": "Python 3",
   "language": "python",
   "name": "python3"
  },
  "language_info": {
   "codemirror_mode": {
    "name": "ipython",
    "version": 3
   },
   "file_extension": ".py",
   "mimetype": "text/x-python",
   "name": "python",
   "nbconvert_exporter": "python",
   "pygments_lexer": "ipython3",
   "version": "3.4.3"
  }
 },
 "nbformat": 4,
 "nbformat_minor": 0
}
